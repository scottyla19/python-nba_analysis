{
 "cells": [
  {
   "cell_type": "code",
   "execution_count": 12,
   "metadata": {
    "collapsed": false
   },
   "outputs": [],
   "source": [
    "%matplotlib inline\n",
    "\n",
    "import requests\n",
    "import pandas as pd\n",
    "import statsmodels.api as sm\n",
    "import matplotlib.pyplot as plt\n"
   ]
  },
  {
   "cell_type": "code",
   "execution_count": 2,
   "metadata": {
    "collapsed": false
   },
   "outputs": [],
   "source": [
    "def get_data_from_url(base_url, index):\n",
    "    response = requests.get(base_url)\n",
    "    data = response.json()\n",
    "    headers = data['resultSets'][index]['headers']\n",
    "    rows = data['resultSets'][index]['rowSet']\n",
    "    shot_df = pd.DataFrame(rows, columns=headers)\n",
    "    return shot_df\n"
   ]
  },
  {
   "cell_type": "code",
   "execution_count": 14,
   "metadata": {
    "collapsed": false
   },
   "outputs": [
    {
     "name": "stdout",
     "output_type": "stream",
     "text": [
      "      TEAM_ID            TEAM_NAME  GP   W   L  W_PCT   MIN  OFF_RATING  \\\n",
      "0  1610612737        Atlanta Hawks  82  56  26  0.683  4076       105.4   \n",
      "1  1610612738       Boston Celtics  82  15  67  0.183  4111       100.8   \n",
      "2  1610612766    Charlotte Hornets  82  54  28  0.659  4086       108.0   \n",
      "3  1610612741        Chicago Bulls  82  69  13  0.841  4069       111.1   \n",
      "4  1610612739  Cleveland Cavaliers  82  42  40  0.512  4115       102.0   \n",
      "\n",
      "   DEF_RATING  NET_RATING         ...           OREB_PCT  DREB_PCT  REB_PCT  \\\n",
      "0        98.9         6.5         ...              0.315     0.692    0.508   \n",
      "1       108.8        -8.0         ...              0.294     0.685    0.475   \n",
      "2       105.6         2.4         ...              0.287     0.681    0.490   \n",
      "3        99.2        12.0         ...              0.359     0.693    0.529   \n",
      "4        99.4         2.6         ...              0.294     0.719    0.503   \n",
      "\n",
      "   TM_TOV_PCT  EFG_PCT  TS_PCT   PACE    PIE  CFID             CFPARAMS  \n",
      "0       0.167    0.498   0.542  87.04  0.539    10        Atlanta Hawks  \n",
      "1       0.164    0.474   0.520  95.24  0.434    10       Boston Celtics  \n",
      "2       0.160    0.518   0.562  88.34  0.528    10    Charlotte Hornets  \n",
      "3       0.146    0.511   0.547  89.94  0.586    10        Chicago Bulls  \n",
      "4       0.169    0.493   0.531  82.21  0.512    10  Cleveland Cavaliers  \n",
      "\n",
      "[5 rows x 23 columns]\n"
     ]
    }
   ],
   "source": [
    "stats = get_data_from_url(\"http://stats.nba.com/stats/leaguedashteamstats?Conference=&DateFrom=&DateTo=&Division=&GameScope=&GameSegment=&LastNGames=0&LeagueID=00&Location=&MeasureType=Advanced&Month=0&OpponentTeamID=0&Outcome=&PORound=0&PaceAdjust=N&PerMode=PerGame&Period=0&PlayerExperience=&PlayerPosition=&PlusMinus=N&Rank=N&Season=1996-97&SeasonSegment=&SeasonType=Regular+Season&ShotClockRange=&StarterBench=&TeamID=0&VsConference=&VsDivision=\", 0)\n",
    "seasons = [\"1997-98\",\"1998-99\",\"1999-00\",\"2000-01\",\"2001-02\",\"2002-03\",\"2003-04\"\n",
    "          ,\"2004-05\",\"2005-06\",\"2006-07\",\"2007-08\",\"2008-09\",\"2009-10\",\"2010-11\",\"2011-12\"\n",
    "          ,\"2012-13\",\"2013-14\",\"2014-15\",\"2015-16\"]\n",
    "for s in seasons:\n",
    "    url = \"\"\"http://stats.nba.com/stats/leaguedashteamstats?Conference=&DateFrom=&DateTo=&Division=&GameScope=&GameSegment=&LastNGames=0&LeagueID=00&Location=&MeasureType=Advanced&Month=0&OpponentTeamID=0&Outcome=&PORound=0&PaceAdjust=N&PerMode=PerGame&Period=0&PlayerExperience=&PlayerPosition=&PlusMinus=N&Rank=N&Season=%s&SeasonSegment=&SeasonType=Regular+Season&ShotClockRange=&StarterBench=&TeamID=0&VsConference=&VsDivision=\"\"\" % s\n",
    "    stats = stats.append(get_data_from_url(url, 0))\n",
    "\n",
    "print stats.head()"
   ]
  },
  {
   "cell_type": "code",
   "execution_count": 18,
   "metadata": {
    "collapsed": false
   },
   "outputs": [],
   "source": [
    "data = get_data_from_url('http://stats.nba.com/stats/leaguegamelog?Counter=1000&Direction=DESC&LeagueID=00&PlayerOrTeam=T&Season=2015-16&SeasonType=Regular+Season&Sorter=PTS', 0)\n"
   ]
  },
  {
   "cell_type": "code",
   "execution_count": 32,
   "metadata": {
    "collapsed": false
   },
   "outputs": [
    {
     "name": "stdout",
     "output_type": "stream",
     "text": [
      "    SEASON_ID_x   TEAM_ID_x TEAM_ABBREVIATION_x             TEAM_NAME_x  \\\n",
      "18        22015  1610612744                 GSW   Golden State Warriors   \n",
      "95        22015  1610612757                 POR  Portland Trail Blazers   \n",
      "165       22015  1610612762                 UTA               Utah Jazz   \n",
      "96        22015  1610612759                 SAS       San Antonio Spurs   \n",
      "224       22015  1610612742                 DAL        Dallas Mavericks   \n",
      "\n",
      "        GAME_ID GAME_DATE_x    MATCHUP_x WL_x  MIN_x  FGM_x  \\\n",
      "18   0021500245  2015-11-28  GSW vs. SAC    W    240     39   \n",
      "95   0021500244  2015-11-28  POR vs. LAL    W    240     38   \n",
      "165  0021500243  2015-11-28  UTA vs. NOP    W    240     38   \n",
      "96   0021500242  2015-11-28  SAS vs. ATL    W    240     40   \n",
      "224  0021500241  2015-11-28  DAL vs. DEN    W    240     33   \n",
      "\n",
      "           ...          DREB_y  REB_y  AST_y  STL_y  BLK_y  TOV_y  PF_y  \\\n",
      "18         ...              29     48     22      9      7     15    24   \n",
      "95         ...              27     33     20     12      2      9    19   \n",
      "165        ...              31     35     19      8      4     17    19   \n",
      "96         ...              31     43     28      9      5     18    17   \n",
      "224        ...              35     45     17      9      5     22    22   \n",
      "\n",
      "     PTS_y  PLUS_MINUS_y  VIDEO_AVAILABLE_y  \n",
      "18     101           -19                  1  \n",
      "95      96           -12                  1  \n",
      "165     87           -14                  1  \n",
      "96      88           -20                  1  \n",
      "224     81           -11                  1  \n",
      "\n",
      "[5 rows x 57 columns]\n"
     ]
    },
    {
     "name": "stderr",
     "output_type": "stream",
     "text": [
      "/home/scott/anaconda2/lib/python2.7/site-packages/ipykernel/__main__.py:1: FutureWarning: sort(columns=....) is deprecated, use sort_values(by=.....)\n",
      "  if __name__ == '__main__':\n",
      "/home/scott/anaconda2/lib/python2.7/site-packages/ipykernel/__main__.py:6: FutureWarning: sort(columns=....) is deprecated, use sort_values(by=.....)\n"
     ]
    }
   ],
   "source": [
    "data.sort(['GAME_ID'], ascending=[False])\n",
    "wins = data[data['WL']=='W']\n",
    "losses = data[data['WL']=='L']\n",
    "\n",
    "games = pd.merge(wins, losses, on='GAME_ID', how='outer')\n",
    "games = games.sort(['GAME_ID'], ascending=[False])\n",
    "\n",
    "print games.head()\n"
   ]
  },
  {
   "cell_type": "code",
   "execution_count": 16,
   "metadata": {
    "collapsed": false
   },
   "outputs": [
    {
     "name": "stderr",
     "output_type": "stream",
     "text": [
      "/home/scott/anaconda2/lib/python2.7/site-packages/ipykernel/__main__.py:1: FutureWarning: sort(columns=....) is deprecated, use sort_values(by=.....)\n",
      "  if __name__ == '__main__':\n"
     ]
    },
    {
     "data": {
      "text/html": [
       "<table class=\"simpletable\">\n",
       "<caption>OLS Regression Results</caption>\n",
       "<tr>\n",
       "  <th>Dep. Variable:</th>          <td>W_PCT</td>      <th>  R-squared:         </th> <td>   0.938</td>\n",
       "</tr>\n",
       "<tr>\n",
       "  <th>Model:</th>                   <td>OLS</td>       <th>  Adj. R-squared:    </th> <td>   0.938</td>\n",
       "</tr>\n",
       "<tr>\n",
       "  <th>Method:</th>             <td>Least Squares</td>  <th>  F-statistic:       </th> <td>   1781.</td>\n",
       "</tr>\n",
       "<tr>\n",
       "  <th>Date:</th>             <td>Sun, 29 Nov 2015</td> <th>  Prob (F-statistic):</th>  <td>  0.00</td> \n",
       "</tr>\n",
       "<tr>\n",
       "  <th>Time:</th>                 <td>07:42:38</td>     <th>  Log-Likelihood:    </th> <td>  1075.1</td>\n",
       "</tr>\n",
       "<tr>\n",
       "  <th>No. Observations:</th>      <td>   592</td>      <th>  AIC:               </th> <td>  -2138.</td>\n",
       "</tr>\n",
       "<tr>\n",
       "  <th>Df Residuals:</th>          <td>   586</td>      <th>  BIC:               </th> <td>  -2112.</td>\n",
       "</tr>\n",
       "<tr>\n",
       "  <th>Df Model:</th>              <td>     5</td>      <th>                     </th>     <td> </td>   \n",
       "</tr>\n",
       "<tr>\n",
       "  <th>Covariance Type:</th>      <td>nonrobust</td>    <th>                     </th>     <td> </td>   \n",
       "</tr>\n",
       "</table>\n",
       "<table class=\"simpletable\">\n",
       "<tr>\n",
       "       <td></td>         <th>coef</th>     <th>std err</th>      <th>t</th>      <th>P>|t|</th> <th>[95.0% Conf. Int.]</th> \n",
       "</tr>\n",
       "<tr>\n",
       "  <th>const</th>      <td>    0.9864</td> <td>    0.106</td> <td>    9.268</td> <td> 0.000</td> <td>    0.777     1.195</td>\n",
       "</tr>\n",
       "<tr>\n",
       "  <th>TS_PCT</th>     <td>    5.0289</td> <td>    0.087</td> <td>   57.905</td> <td> 0.000</td> <td>    4.858     5.199</td>\n",
       "</tr>\n",
       "<tr>\n",
       "  <th>DREB_PCT</th>   <td>    0.0405</td> <td>    0.076</td> <td>    0.535</td> <td> 0.593</td> <td>   -0.108     0.189</td>\n",
       "</tr>\n",
       "<tr>\n",
       "  <th>OREB_PCT</th>   <td>    1.5744</td> <td>    0.066</td> <td>   23.802</td> <td> 0.000</td> <td>    1.445     1.704</td>\n",
       "</tr>\n",
       "<tr>\n",
       "  <th>TM_TOV_PCT</th> <td>   -3.8567</td> <td>    0.147</td> <td>  -26.307</td> <td> 0.000</td> <td>   -4.145    -3.569</td>\n",
       "</tr>\n",
       "<tr>\n",
       "  <th>DEF_RATING</th> <td>   -0.0294</td> <td>    0.000</td> <td>  -63.754</td> <td> 0.000</td> <td>   -0.030    -0.029</td>\n",
       "</tr>\n",
       "</table>\n",
       "<table class=\"simpletable\">\n",
       "<tr>\n",
       "  <th>Omnibus:</th>       <td> 8.311</td> <th>  Durbin-Watson:     </th> <td>   2.133</td>\n",
       "</tr>\n",
       "<tr>\n",
       "  <th>Prob(Omnibus):</th> <td> 0.016</td> <th>  Jarque-Bera (JB):  </th> <td>   9.235</td>\n",
       "</tr>\n",
       "<tr>\n",
       "  <th>Skew:</th>          <td> 0.204</td> <th>  Prob(JB):          </th> <td> 0.00988</td>\n",
       "</tr>\n",
       "<tr>\n",
       "  <th>Kurtosis:</th>      <td> 3.456</td> <th>  Cond. No.          </th> <td>1.01e+04</td>\n",
       "</tr>\n",
       "</table>"
      ],
      "text/plain": [
       "<class 'statsmodels.iolib.summary.Summary'>\n",
       "\"\"\"\n",
       "                            OLS Regression Results                            \n",
       "==============================================================================\n",
       "Dep. Variable:                  W_PCT   R-squared:                       0.938\n",
       "Model:                            OLS   Adj. R-squared:                  0.938\n",
       "Method:                 Least Squares   F-statistic:                     1781.\n",
       "Date:                Sun, 29 Nov 2015   Prob (F-statistic):               0.00\n",
       "Time:                        07:42:38   Log-Likelihood:                 1075.1\n",
       "No. Observations:                 592   AIC:                            -2138.\n",
       "Df Residuals:                     586   BIC:                            -2112.\n",
       "Df Model:                           5                                         \n",
       "Covariance Type:            nonrobust                                         \n",
       "==============================================================================\n",
       "                 coef    std err          t      P>|t|      [95.0% Conf. Int.]\n",
       "------------------------------------------------------------------------------\n",
       "const          0.9864      0.106      9.268      0.000         0.777     1.195\n",
       "TS_PCT         5.0289      0.087     57.905      0.000         4.858     5.199\n",
       "DREB_PCT       0.0405      0.076      0.535      0.593        -0.108     0.189\n",
       "OREB_PCT       1.5744      0.066     23.802      0.000         1.445     1.704\n",
       "TM_TOV_PCT    -3.8567      0.147    -26.307      0.000        -4.145    -3.569\n",
       "DEF_RATING    -0.0294      0.000    -63.754      0.000        -0.030    -0.029\n",
       "==============================================================================\n",
       "Omnibus:                        8.311   Durbin-Watson:                   2.133\n",
       "Prob(Omnibus):                  0.016   Jarque-Bera (JB):                9.235\n",
       "Skew:                           0.204   Prob(JB):                      0.00988\n",
       "Kurtosis:                       3.456   Cond. No.                     1.01e+04\n",
       "==============================================================================\n",
       "\n",
       "Warnings:\n",
       "[1] Standard Errors assume that the covariance matrix of the errors is correctly specified.\n",
       "[2] The condition number is large, 1.01e+04. This might indicate that there are\n",
       "strong multicollinearity or other numerical problems.\n",
       "\"\"\""
      ]
     },
     "execution_count": 16,
     "metadata": {},
     "output_type": "execute_result"
    }
   ],
   "source": [
    "stats.sort(['W_PCT'], ascending=[False])\n",
    "\n",
    "Y= stats.W_PCT\n",
    "X = stats[['TS_PCT', 'DREB_PCT', 'OREB_PCT', 'TM_TOV_PCT','DEF_RATING']]\n",
    "X = sm.add_constant(X)\n",
    "\n",
    "model = sm.OLS(Y,X)\n",
    "results = model.fit()\n",
    "results.summary()"
   ]
  },
  {
   "cell_type": "code",
   "execution_count": null,
   "metadata": {
    "collapsed": true
   },
   "outputs": [],
   "source": []
  }
 ],
 "metadata": {
  "kernelspec": {
   "display_name": "Python 2",
   "language": "python",
   "name": "python2"
  },
  "language_info": {
   "codemirror_mode": {
    "name": "ipython",
    "version": 2
   },
   "file_extension": ".py",
   "mimetype": "text/x-python",
   "name": "python",
   "nbconvert_exporter": "python",
   "pygments_lexer": "ipython2",
   "version": "2.7.10"
  }
 },
 "nbformat": 4,
 "nbformat_minor": 0
}
