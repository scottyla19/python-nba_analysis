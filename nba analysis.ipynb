{
 "cells": [
  {
   "cell_type": "code",
   "execution_count": 23,
   "metadata": {
    "collapsed": false
   },
   "outputs": [],
   "source": [
    "%matplotlib inline\n",
    "\n",
    "import requests\n",
    "import pandas as pd\n",
    "import statsmodels.api as sm\n",
    "import matplotlib.pyplot as plt\n",
    "from scipy.stats import ttest_ind\n"
   ]
  },
  {
   "cell_type": "code",
   "execution_count": 2,
   "metadata": {
    "collapsed": false
   },
   "outputs": [],
   "source": [
    "def get_data_from_url(base_url, index):\n",
    "    response = requests.get(base_url)\n",
    "    data = response.json()\n",
    "    headers = data['resultSets'][index]['headers']\n",
    "    rows = data['resultSets'][index]['rowSet']\n",
    "    shot_df = pd.DataFrame(rows, columns=headers)\n",
    "    return shot_df\n"
   ]
  },
  {
   "cell_type": "code",
   "execution_count": 3,
   "metadata": {
    "collapsed": false
   },
   "outputs": [
    {
     "name": "stdout",
     "output_type": "stream",
     "text": [
      "      TEAM_ID            TEAM_NAME  GP   W   L  W_PCT   MIN  OFF_RATING  \\\n",
      "0  1610612737        Atlanta Hawks  82  56  26  0.683  4076       105.4   \n",
      "1  1610612738       Boston Celtics  82  15  67  0.183  4111       100.8   \n",
      "2  1610612766    Charlotte Hornets  82  54  28  0.659  4086       108.0   \n",
      "3  1610612741        Chicago Bulls  82  69  13  0.841  4069       111.1   \n",
      "4  1610612739  Cleveland Cavaliers  82  42  40  0.512  4115       102.0   \n",
      "\n",
      "   DEF_RATING  NET_RATING         ...           OREB_PCT  DREB_PCT  REB_PCT  \\\n",
      "0        98.9         6.5         ...              0.315     0.692    0.508   \n",
      "1       108.8        -8.0         ...              0.294     0.685    0.475   \n",
      "2       105.6         2.4         ...              0.287     0.681    0.490   \n",
      "3        99.2        12.0         ...              0.359     0.693    0.529   \n",
      "4        99.4         2.6         ...              0.294     0.719    0.503   \n",
      "\n",
      "   TM_TOV_PCT  EFG_PCT  TS_PCT   PACE    PIE  CFID             CFPARAMS  \n",
      "0       0.167    0.498   0.542  87.04  0.539    10        Atlanta Hawks  \n",
      "1       0.164    0.474   0.520  95.24  0.434    10       Boston Celtics  \n",
      "2       0.160    0.518   0.562  88.34  0.528    10    Charlotte Hornets  \n",
      "3       0.146    0.511   0.547  89.94  0.586    10        Chicago Bulls  \n",
      "4       0.169    0.493   0.531  82.21  0.512    10  Cleveland Cavaliers  \n",
      "\n",
      "[5 rows x 23 columns]\n"
     ]
    }
   ],
   "source": [
    "stats = get_data_from_url(\"http://stats.nba.com/stats/leaguedashteamstats?Conference=&DateFrom=&DateTo=&Division=&GameScope=&GameSegment=&LastNGames=0&LeagueID=00&Location=&MeasureType=Advanced&Month=0&OpponentTeamID=0&Outcome=&PORound=0&PaceAdjust=N&PerMode=PerGame&Period=0&PlayerExperience=&PlayerPosition=&PlusMinus=N&Rank=N&Season=1996-97&SeasonSegment=&SeasonType=Regular+Season&ShotClockRange=&StarterBench=&TeamID=0&VsConference=&VsDivision=\", 0)\n",
    "seasons = [\"1997-98\",\"1998-99\",\"1999-00\",\"2000-01\",\"2001-02\",\"2002-03\",\"2003-04\"\n",
    "          ,\"2004-05\",\"2005-06\",\"2006-07\",\"2007-08\",\"2008-09\",\"2009-10\",\"2010-11\",\"2011-12\"\n",
    "          ,\"2012-13\",\"2013-14\",\"2014-15\",\"2015-16\"]\n",
    "\"\"\"for s in seasons:\n",
    "    url = 'http://stats.nba.com/stats/leaguedashteamstats?Conference=&DateFrom=&DateTo=&Division=&GameScope=&GameSegment=&LastNGames=0&LeagueID=00&Location=&MeasureType=Advanced&Month=0&OpponentTeamID=0&Outcome=&PORound=0&PaceAdjust=N&PerMode=PerGame&Period=0&PlayerExperience=&PlayerPosition=&PlusMinus=N&Rank=N&Season=%s&SeasonSegment=&SeasonType=Regular+Season&ShotClockRange=&StarterBench=&TeamID=0&VsConference=&VsDivision='% s\n",
    "    stats = stats.append(get_data_from_url(url, 0))\n",
    "\"\"\"\n",
    "print stats.head()"
   ]
  },
  {
   "cell_type": "code",
   "execution_count": 56,
   "metadata": {
    "collapsed": false
   },
   "outputs": [
    {
     "name": "stdout",
     "output_type": "stream",
     "text": [
      "Index([u'SEASON_ID', u'TEAM_ID', u'TEAM_ABBREVIATION', u'TEAM_NAME',\n",
      "       u'GAME_ID', u'GAME_DATE', u'MATCHUP', u'WL', u'MIN', u'FGM', u'FGA',\n",
      "       u'FG_PCT', u'FG3M', u'FG3A', u'FG3_PCT', u'FTM', u'FTA', u'FT_PCT',\n",
      "       u'OREB', u'DREB', u'REB', u'AST', u'STL', u'BLK', u'TOV', u'PF', u'PTS',\n",
      "       u'PLUS_MINUS', u'VIDEO_AVAILABLE'],\n",
      "      dtype='object')\n"
     ]
    }
   ],
   "source": [
    "data = get_data_from_url('http://stats.nba.com/stats/leaguegamelog?Counter=1000&Direction=DESC&LeagueID=00&PlayerOrTeam=T&Season=2015-16&SeasonType=Regular+Season&Sorter=PTS', 0)\n",
    "print data.columns\n"
   ]
  },
  {
   "cell_type": "markdown",
   "metadata": {},
   "source": []
  },
  {
   "cell_type": "code",
   "execution_count": 60,
   "metadata": {
    "collapsed": false
   },
   "outputs": [
    {
     "name": "stdout",
     "output_type": "stream",
     "text": [
      "Index([u'SEASON_ID_x', u'TEAM_ID_x', u'TEAM_ABBREVIATION_x', u'TEAM_NAME_x',\n",
      "       u'GAME_ID', u'GAME_DATE_x', u'MATCHUP_x', u'WL_x', u'MIN_x', u'FGM_x',\n",
      "       u'FGA_x', u'FG_PCT_x', u'FG3M_x', u'FG3A_x', u'FG3_PCT_x', u'FTM_x',\n",
      "       u'FTA_x', u'FT_PCT_x', u'OREB_x', u'DREB_x', u'REB_x', u'AST_x',\n",
      "       u'STL_x', u'BLK_x', u'TOV_x', u'PF_x', u'PTS_x', u'PLUS_MINUS_x',\n",
      "       u'VIDEO_AVAILABLE_x', u'SEASON_ID_y', u'TEAM_ID_y',\n",
      "       u'TEAM_ABBREVIATION_y', u'TEAM_NAME_y', u'GAME_DATE_y', u'MATCHUP_y',\n",
      "       u'WL_y', u'MIN_y', u'FGM_y', u'FGA_y', u'FG_PCT_y', u'FG3M_y',\n",
      "       u'FG3A_y', u'FG3_PCT_y', u'FTM_y', u'FTA_y', u'FT_PCT_y', u'OREB_y',\n",
      "       u'DREB_y', u'REB_y', u'AST_y', u'STL_y', u'BLK_y', u'TOV_y', u'PF_y',\n",
      "       u'PTS_y', u'PLUS_MINUS_y', u'VIDEO_AVAILABLE_y'],\n",
      "      dtype='object')\n"
     ]
    },
    {
     "name": "stderr",
     "output_type": "stream",
     "text": [
      "/home/scott/anaconda2/lib/python2.7/site-packages/ipykernel/__main__.py:1: FutureWarning: sort(columns=....) is deprecated, use sort_values(by=.....)\n",
      "  if __name__ == '__main__':\n",
      "/home/scott/anaconda2/lib/python2.7/site-packages/ipykernel/__main__.py:6: FutureWarning: sort(columns=....) is deprecated, use sort_values(by=.....)\n"
     ]
    },
    {
     "data": {
      "text/html": [
       "<div>\n",
       "<table border=\"1\" class=\"dataframe\">\n",
       "  <thead>\n",
       "    <tr style=\"text-align: right;\">\n",
       "      <th></th>\n",
       "      <th>SEASON_ID_x</th>\n",
       "      <th>TEAM_ID_x</th>\n",
       "      <th>TEAM_ABBREVIATION_x</th>\n",
       "      <th>TEAM_NAME_x</th>\n",
       "      <th>GAME_ID</th>\n",
       "      <th>GAME_DATE_x</th>\n",
       "      <th>MATCHUP_x</th>\n",
       "      <th>WL_x</th>\n",
       "      <th>MIN_x</th>\n",
       "      <th>FGM_x</th>\n",
       "      <th>...</th>\n",
       "      <th>DREB%_x</th>\n",
       "      <th>DREB%_y</th>\n",
       "      <th>OREB%_x</th>\n",
       "      <th>OREB%_y</th>\n",
       "      <th>TOV%_x</th>\n",
       "      <th>TOV%_y</th>\n",
       "      <th>POSS_x</th>\n",
       "      <th>POSS_y</th>\n",
       "      <th>ORTG_x</th>\n",
       "      <th>ORTG_y</th>\n",
       "    </tr>\n",
       "  </thead>\n",
       "  <tbody>\n",
       "    <tr>\n",
       "      <th>227</th>\n",
       "      <td>22015</td>\n",
       "      <td>1610612763</td>\n",
       "      <td>MEM</td>\n",
       "      <td>Memphis Grizzlies</td>\n",
       "      <td>0021500251</td>\n",
       "      <td>2015-11-29</td>\n",
       "      <td>MEM vs. PHI</td>\n",
       "      <td>W</td>\n",
       "      <td>240</td>\n",
       "      <td>34</td>\n",
       "      <td>...</td>\n",
       "      <td>0.809524</td>\n",
       "      <td>0.687500</td>\n",
       "      <td>0.357143</td>\n",
       "      <td>0.166667</td>\n",
       "      <td>0.218708</td>\n",
       "      <td>0.243156</td>\n",
       "      <td>103.88</td>\n",
       "      <td>103.04</td>\n",
       "      <td>88.563727</td>\n",
       "      <td>81.521739</td>\n",
       "    </tr>\n",
       "    <tr>\n",
       "      <th>105</th>\n",
       "      <td>22015</td>\n",
       "      <td>1610612756</td>\n",
       "      <td>PHX</td>\n",
       "      <td>Phoenix Suns</td>\n",
       "      <td>0021500250</td>\n",
       "      <td>2015-11-29</td>\n",
       "      <td>PHX @ TOR</td>\n",
       "      <td>W</td>\n",
       "      <td>240</td>\n",
       "      <td>40</td>\n",
       "      <td>...</td>\n",
       "      <td>0.822222</td>\n",
       "      <td>0.729167</td>\n",
       "      <td>0.288889</td>\n",
       "      <td>0.166667</td>\n",
       "      <td>0.088652</td>\n",
       "      <td>0.122089</td>\n",
       "      <td>99.80</td>\n",
       "      <td>98.48</td>\n",
       "      <td>107.214429</td>\n",
       "      <td>103.574330</td>\n",
       "    </tr>\n",
       "    <tr>\n",
       "      <th>83</th>\n",
       "      <td>22015</td>\n",
       "      <td>1610612753</td>\n",
       "      <td>ORL</td>\n",
       "      <td>Orlando Magic</td>\n",
       "      <td>0021500249</td>\n",
       "      <td>2015-11-29</td>\n",
       "      <td>ORL vs. BOS</td>\n",
       "      <td>W</td>\n",
       "      <td>240</td>\n",
       "      <td>45</td>\n",
       "      <td>...</td>\n",
       "      <td>0.804348</td>\n",
       "      <td>0.595238</td>\n",
       "      <td>0.369565</td>\n",
       "      <td>0.214286</td>\n",
       "      <td>0.130389</td>\n",
       "      <td>0.110294</td>\n",
       "      <td>98.04</td>\n",
       "      <td>99.80</td>\n",
       "      <td>112.199102</td>\n",
       "      <td>91.182365</td>\n",
       "    </tr>\n",
       "    <tr>\n",
       "      <th>247</th>\n",
       "      <td>22015</td>\n",
       "      <td>1610612751</td>\n",
       "      <td>BKN</td>\n",
       "      <td>Brooklyn Nets</td>\n",
       "      <td>0021500248</td>\n",
       "      <td>2015-11-29</td>\n",
       "      <td>BKN vs. DET</td>\n",
       "      <td>W</td>\n",
       "      <td>240</td>\n",
       "      <td>35</td>\n",
       "      <td>...</td>\n",
       "      <td>0.698413</td>\n",
       "      <td>0.820513</td>\n",
       "      <td>0.111111</td>\n",
       "      <td>0.487179</td>\n",
       "      <td>0.177504</td>\n",
       "      <td>0.119770</td>\n",
       "      <td>100.04</td>\n",
       "      <td>106.24</td>\n",
       "      <td>86.965214</td>\n",
       "      <td>78.125000</td>\n",
       "    </tr>\n",
       "    <tr>\n",
       "      <th>106</th>\n",
       "      <td>22015</td>\n",
       "      <td>1610612746</td>\n",
       "      <td>LAC</td>\n",
       "      <td>Los Angeles Clippers</td>\n",
       "      <td>0021500247</td>\n",
       "      <td>2015-11-29</td>\n",
       "      <td>LAC vs. MIN</td>\n",
       "      <td>W</td>\n",
       "      <td>240</td>\n",
       "      <td>39</td>\n",
       "      <td>...</td>\n",
       "      <td>0.820513</td>\n",
       "      <td>0.820513</td>\n",
       "      <td>0.179487</td>\n",
       "      <td>0.179487</td>\n",
       "      <td>0.126805</td>\n",
       "      <td>0.141190</td>\n",
       "      <td>95.52</td>\n",
       "      <td>99.24</td>\n",
       "      <td>112.018425</td>\n",
       "      <td>99.758162</td>\n",
       "    </tr>\n",
       "  </tbody>\n",
       "</table>\n",
       "<p>5 rows × 71 columns</p>\n",
       "</div>"
      ],
      "text/plain": [
       "    SEASON_ID_x   TEAM_ID_x TEAM_ABBREVIATION_x           TEAM_NAME_x  \\\n",
       "227       22015  1610612763                 MEM     Memphis Grizzlies   \n",
       "105       22015  1610612756                 PHX          Phoenix Suns   \n",
       "83        22015  1610612753                 ORL         Orlando Magic   \n",
       "247       22015  1610612751                 BKN         Brooklyn Nets   \n",
       "106       22015  1610612746                 LAC  Los Angeles Clippers   \n",
       "\n",
       "        GAME_ID GAME_DATE_x    MATCHUP_x WL_x  MIN_x  FGM_x     ...      \\\n",
       "227  0021500251  2015-11-29  MEM vs. PHI    W    240     34     ...       \n",
       "105  0021500250  2015-11-29    PHX @ TOR    W    240     40     ...       \n",
       "83   0021500249  2015-11-29  ORL vs. BOS    W    240     45     ...       \n",
       "247  0021500248  2015-11-29  BKN vs. DET    W    240     35     ...       \n",
       "106  0021500247  2015-11-29  LAC vs. MIN    W    240     39     ...       \n",
       "\n",
       "      DREB%_x   DREB%_y   OREB%_x   OREB%_y    TOV%_x    TOV%_y  POSS_x  \\\n",
       "227  0.809524  0.687500  0.357143  0.166667  0.218708  0.243156  103.88   \n",
       "105  0.822222  0.729167  0.288889  0.166667  0.088652  0.122089   99.80   \n",
       "83   0.804348  0.595238  0.369565  0.214286  0.130389  0.110294   98.04   \n",
       "247  0.698413  0.820513  0.111111  0.487179  0.177504  0.119770  100.04   \n",
       "106  0.820513  0.820513  0.179487  0.179487  0.126805  0.141190   95.52   \n",
       "\n",
       "     POSS_y      ORTG_x      ORTG_y  \n",
       "227  103.04   88.563727   81.521739  \n",
       "105   98.48  107.214429  103.574330  \n",
       "83    99.80  112.199102   91.182365  \n",
       "247  106.24   86.965214   78.125000  \n",
       "106   99.24  112.018425   99.758162  \n",
       "\n",
       "[5 rows x 71 columns]"
      ]
     },
     "execution_count": 60,
     "metadata": {},
     "output_type": "execute_result"
    }
   ],
   "source": [
    "data.sort(['GAME_ID'], ascending=[False])\n",
    "wins = data[data['WL']=='W']\n",
    "losses = data[data['WL']=='L']\n",
    "\n",
    "games = pd.merge(wins, losses, on='GAME_ID', how='outer')\n",
    "games = games.sort(['GAME_ID'], ascending=[False])\n",
    "\n",
    "print games.columns\n",
    "\n",
    "games['ts%_x'] = games.PTS_x/(2*(games.FGA_x +.44*games.FTA_x))\n",
    "games['ts%_y'] = games.PTS_y/(2*(games.FGA_y +.44*games.FTA_y))\n",
    "\n",
    "games['eFG%_x'] = (games.FGM_x + .5*games.FG3M_x)/games.FGA_x \n",
    "games['eFG%_y'] = (games.FGM_y + .5*games.FG3M_y)/games.FGA_y \n",
    "\n",
    "games['DREB%_x'] = games.DREB_x/(games.DREB_x + games.OREB_y)\n",
    "games['DREB%_y'] = games.DREB_y/(games.DREB_y + games.OREB_x)\n",
    "\n",
    "games['OREB%_x'] = games.OREB_x/(games.DREB_x + games.OREB_y)\n",
    "games['OREB%_y'] = games.OREB_y/(games.DREB_y + games.OREB_x)\n",
    "\n",
    "games['TOV%_x'] = games.TOV_x/(games.FGA_x +.44*games.FTA_x + games.TOV_x)\n",
    "games['TOV%_y'] = games.TOV_y/(games.FGA_y +.44*games.FTA_y + games.TOV_y)\n",
    "\n",
    "games['POSS_x'] = games.FGA_x + 0.44 * games.FTA_x + games.TOV_x - games.OREB_x\n",
    "games['POSS_y'] = games.FGA_y + 0.44 * games.FTA_y+ games.TOV_y - games.OREB_y\n",
    "\n",
    "games['ORTG_x'] = 100*games.PTS_x/games.POSS_x\n",
    "games['ORTG_y'] = 100*games.PTS_y/games.POSS_y\n",
    "\n",
    "\n",
    "\n",
    "\n",
    "games.head()\n",
    "\n"
   ]
  },
  {
   "cell_type": "code",
   "execution_count": 61,
   "metadata": {
    "collapsed": false
   },
   "outputs": [
    {
     "name": "stdout",
     "output_type": "stream",
     "text": [
      "Ttest_indResult(statistic=12.030093779988301, pvalue=1.8745628818987009e-29)\n",
      "Ttest_indResult(statistic=10.792792838159322, pvalue=1.4873382727788631e-24)\n",
      "Ttest_indResult(statistic=3.0754146571861125, pvalue=0.0022171406450985239)\n",
      "Ttest_indResult(statistic=-3.0788396992850715, pvalue=0.0021922842290475059)\n",
      "Ttest_indResult(statistic=14.474355139897428, pvalue=6.5828321083959094e-40)\n"
     ]
    },
    {
     "data": {
      "image/png": "[encoded data removed]",
      "text/plain": [
       "<matplotlib.figure.Figure at 0x7fb6894f9410>"
      ]
     },
     "metadata": {},
     "output_type": "display_data"
    },
    {
     "data": {
      "image/png": "[encoded data removed]",
      "text/plain": [
       "<matplotlib.figure.Figure at 0x7fb688037850>"
      ]
     },
     "metadata": {},
     "output_type": "display_data"
    },
    {
     "data": {
      "image/png": "[encoded data removed]",
      "text/plain": [
       "<matplotlib.figure.Figure at 0x7fb68950a690>"
      ]
     },
     "metadata": {},
     "output_type": "display_data"
    },
    {
     "data": {
      "text/plain": [
       "<matplotlib.figure.Figure at 0x7fb6878c8050>"
      ]
     },
     "metadata": {},
     "output_type": "display_data"
    },
    {
     "data": {
      "image/png": "[encoded data removed]",
      "text/plain": [
       "<matplotlib.figure.Figure at 0x7fb6886cbf50>"
      ]
     },
     "metadata": {},
     "output_type": "display_data"
    }
   ],
   "source": [
    "\n",
    "\n",
    "plt.figure();\n",
    "\n",
    "games['ts%_x'].plot(kind='hist', alpha=0.5)\n",
    "games['ts%_y'].plot(kind='hist', alpha=0.5)\n",
    "\n",
    "plt.figure();\n",
    "games['eFG%_x'].plot(kind='hist', alpha=0.5)\n",
    "games['eFG%_y'].plot(kind='hist', alpha=0.5)\n",
    "\n",
    "plt.figure();\n",
    "games['DREB%_x'].plot(kind='hist', alpha=0.5)\n",
    "games['DREB%_y'].plot(kind='hist', alpha=0.5)\n",
    "\n",
    "plt.figure();\n",
    "adv = games[['ts%_x','ts%_y','eFG%_x','eFG%_y','DREB%_x','DREB%_y','TOV%_x','TOV%_y']]\n",
    "adv.plot(kind='box')\n",
    "\n",
    "\n",
    "print ttest_ind(games['ts%_x'], games['ts%_y'])\n",
    "print ttest_ind(games['eFG%_x'], games['eFG%_y'])\n",
    "print ttest_ind(games['DREB%_x'], games['DREB%_y'])\n",
    "print ttest_ind(games['TOV%_x'], games['TOV%_y'])\n"
   ]
  },
  {
   "cell_type": "code",
   "execution_count": 6,
   "metadata": {
    "collapsed": false
   },
   "outputs": [
    {
     "name": "stderr",
     "output_type": "stream",
     "text": [
      "/home/scott/anaconda2/lib/python2.7/site-packages/ipykernel/__main__.py:1: FutureWarning: sort(columns=....) is deprecated, use sort_values(by=.....)\n",
      "  if __name__ == '__main__':\n"
     ]
    },
    {
     "data": {
      "text/html": [
       "<table class=\"simpletable\">\n",
       "<caption>OLS Regression Results</caption>\n",
       "<tr>\n",
       "  <th>Dep. Variable:</th>          <td>W_PCT</td>      <th>  R-squared:         </th> <td>   0.956</td>\n",
       "</tr>\n",
       "<tr>\n",
       "  <th>Model:</th>                   <td>OLS</td>       <th>  Adj. R-squared:    </th> <td>   0.946</td>\n",
       "</tr>\n",
       "<tr>\n",
       "  <th>Method:</th>             <td>Least Squares</td>  <th>  F-statistic:       </th> <td>   100.0</td>\n",
       "</tr>\n",
       "<tr>\n",
       "  <th>Date:</th>             <td>Sun, 29 Nov 2015</td> <th>  Prob (F-statistic):</th> <td>8.00e-15</td>\n",
       "</tr>\n",
       "<tr>\n",
       "  <th>Time:</th>                 <td>12:20:54</td>     <th>  Log-Likelihood:    </th> <td>  52.684</td>\n",
       "</tr>\n",
       "<tr>\n",
       "  <th>No. Observations:</th>      <td>    29</td>      <th>  AIC:               </th> <td>  -93.37</td>\n",
       "</tr>\n",
       "<tr>\n",
       "  <th>Df Residuals:</th>          <td>    23</td>      <th>  BIC:               </th> <td>  -85.16</td>\n",
       "</tr>\n",
       "<tr>\n",
       "  <th>Df Model:</th>              <td>     5</td>      <th>                     </th>     <td> </td>   \n",
       "</tr>\n",
       "<tr>\n",
       "  <th>Covariance Type:</th>      <td>nonrobust</td>    <th>                     </th>     <td> </td>   \n",
       "</tr>\n",
       "</table>\n",
       "<table class=\"simpletable\">\n",
       "<tr>\n",
       "       <td></td>         <th>coef</th>     <th>std err</th>      <th>t</th>      <th>P>|t|</th> <th>[95.0% Conf. Int.]</th> \n",
       "</tr>\n",
       "<tr>\n",
       "  <th>const</th>      <td>    2.3403</td> <td>    0.831</td> <td>    2.815</td> <td> 0.010</td> <td>    0.620     4.060</td>\n",
       "</tr>\n",
       "<tr>\n",
       "  <th>TS_PCT</th>     <td>    5.7569</td> <td>    0.663</td> <td>    8.690</td> <td> 0.000</td> <td>    4.386     7.127</td>\n",
       "</tr>\n",
       "<tr>\n",
       "  <th>DREB_PCT</th>   <td>   -1.7945</td> <td>    0.690</td> <td>   -2.599</td> <td> 0.016</td> <td>   -3.223    -0.366</td>\n",
       "</tr>\n",
       "<tr>\n",
       "  <th>OREB_PCT</th>   <td>    1.3903</td> <td>    0.425</td> <td>    3.268</td> <td> 0.003</td> <td>    0.510     2.270</td>\n",
       "</tr>\n",
       "<tr>\n",
       "  <th>TM_TOV_PCT</th> <td>   -1.8504</td> <td>    0.918</td> <td>   -2.016</td> <td> 0.056</td> <td>   -3.749     0.048</td>\n",
       "</tr>\n",
       "<tr>\n",
       "  <th>DEF_RATING</th> <td>   -0.0367</td> <td>    0.003</td> <td>  -10.538</td> <td> 0.000</td> <td>   -0.044    -0.029</td>\n",
       "</tr>\n",
       "</table>\n",
       "<table class=\"simpletable\">\n",
       "<tr>\n",
       "  <th>Omnibus:</th>       <td> 0.052</td> <th>  Durbin-Watson:     </th> <td>   2.063</td>\n",
       "</tr>\n",
       "<tr>\n",
       "  <th>Prob(Omnibus):</th> <td> 0.975</td> <th>  Jarque-Bera (JB):  </th> <td>   0.130</td>\n",
       "</tr>\n",
       "<tr>\n",
       "  <th>Skew:</th>          <td>-0.080</td> <th>  Prob(JB):          </th> <td>   0.937</td>\n",
       "</tr>\n",
       "<tr>\n",
       "  <th>Kurtosis:</th>      <td> 2.713</td> <th>  Cond. No.          </th> <td>1.29e+04</td>\n",
       "</tr>\n",
       "</table>"
      ],
      "text/plain": [
       "<class 'statsmodels.iolib.summary.Summary'>\n",
       "\"\"\"\n",
       "                            OLS Regression Results                            \n",
       "==============================================================================\n",
       "Dep. Variable:                  W_PCT   R-squared:                       0.956\n",
       "Model:                            OLS   Adj. R-squared:                  0.946\n",
       "Method:                 Least Squares   F-statistic:                     100.0\n",
       "Date:                Sun, 29 Nov 2015   Prob (F-statistic):           8.00e-15\n",
       "Time:                        12:20:54   Log-Likelihood:                 52.684\n",
       "No. Observations:                  29   AIC:                            -93.37\n",
       "Df Residuals:                      23   BIC:                            -85.16\n",
       "Df Model:                           5                                         \n",
       "Covariance Type:            nonrobust                                         \n",
       "==============================================================================\n",
       "                 coef    std err          t      P>|t|      [95.0% Conf. Int.]\n",
       "------------------------------------------------------------------------------\n",
       "const          2.3403      0.831      2.815      0.010         0.620     4.060\n",
       "TS_PCT         5.7569      0.663      8.690      0.000         4.386     7.127\n",
       "DREB_PCT      -1.7945      0.690     -2.599      0.016        -3.223    -0.366\n",
       "OREB_PCT       1.3903      0.425      3.268      0.003         0.510     2.270\n",
       "TM_TOV_PCT    -1.8504      0.918     -2.016      0.056        -3.749     0.048\n",
       "DEF_RATING    -0.0367      0.003    -10.538      0.000        -0.044    -0.029\n",
       "==============================================================================\n",
       "Omnibus:                        0.052   Durbin-Watson:                   2.063\n",
       "Prob(Omnibus):                  0.975   Jarque-Bera (JB):                0.130\n",
       "Skew:                          -0.080   Prob(JB):                        0.937\n",
       "Kurtosis:                       2.713   Cond. No.                     1.29e+04\n",
       "==============================================================================\n",
       "\n",
       "Warnings:\n",
       "[1] Standard Errors assume that the covariance matrix of the errors is correctly specified.\n",
       "[2] The condition number is large, 1.29e+04. This might indicate that there are\n",
       "strong multicollinearity or other numerical problems.\n",
       "\"\"\""
      ]
     },
     "execution_count": 6,
     "metadata": {},
     "output_type": "execute_result"
    }
   ],
   "source": [
    "stats.sort(['W_PCT'], ascending=[False])\n",
    "\n",
    "Y= stats.W_PCT\n",
    "X = stats[['TS_PCT', 'DREB_PCT', 'OREB_PCT', 'TM_TOV_PCT','DEF_RATING']]\n",
    "X = sm.add_constant(X)\n",
    "\n",
    "model = sm.OLS(Y,X)\n",
    "results = model.fit()\n",
    "results.summary()"
   ]
  },
  {
   "cell_type": "code",
   "execution_count": null,
   "metadata": {
    "collapsed": true
   },
   "outputs": [],
   "source": []
  }
 ],
 "metadata": {
  "kernelspec": {
   "display_name": "Python 2",
   "language": "python",
   "name": "python2"
  },
  "language_info": {
   "codemirror_mode": {
    "name": "ipython",
    "version": 2
   },
   "file_extension": ".py",
   "mimetype": "text/x-python",
   "name": "python",
   "nbconvert_exporter": "python",
   "pygments_lexer": "ipython2",
   "version": "2.7.10"
  }
 },
 "nbformat": 4,
 "nbformat_minor": 0
}
