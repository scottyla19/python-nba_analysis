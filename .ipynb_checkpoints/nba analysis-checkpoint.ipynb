{
 "cells": [
  {
   "cell_type": "code",
   "execution_count": 47,
   "metadata": {
    "collapsed": false
   },
   "outputs": [],
   "source": [
    "%matplotlib inline\n",
    "\n",
    "import requests\n",
    "import pandas as pd\n",
    "import statsmodels.api as sm\n",
    "import matplotlib.pyplot as plt\n",
    "from scipy.stats import ttest_ind\n",
    "\n"
   ]
  },
  {
   "cell_type": "code",
   "execution_count": 32,
   "metadata": {
    "collapsed": false
   },
   "outputs": [],
   "source": [
    "def get_data_from_url(base_url, index, year):\n",
    "    base_url = base_url% year\n",
    "    response = requests.get(base_url)\n",
    "    data = response.json()\n",
    "    headers = data['resultSets'][index]['headers']\n",
    "    rows = data['resultSets'][index]['rowSet']\n",
    "    headers.append('SEASON')\n",
    "    for r in rows:\n",
    "        r.append(year)\n",
    "    shot_df = pd.DataFrame(rows, columns=headers)\n",
    "    return shot_df\n"
   ]
  },
  {
   "cell_type": "code",
   "execution_count": 33,
   "metadata": {
    "collapsed": false
   },
   "outputs": [],
   "source": [
    "\n",
    "team_url = 'http://stats.nba.com/stats/leaguedashteamstats?Conference=&DateFrom=&DateTo=&Division=&GameScope=&GameSegment=&LastNGames=0&LeagueID=00&Location=&MeasureType=Base&Month=0&OpponentTeamID=0&Outcome=&PORound=0&PaceAdjust=N&PerMode=PerGame&Period=0&PlayerExperience=&PlayerPosition=&PlusMinus=N&Rank=N&Season=%s&SeasonSegment=&SeasonType=Regular+Season&ShotClockRange=&StarterBench=&TeamID=0&VsConference=&VsDivision='\n",
    "opp_url = 'http://stats.nba.com/stats/leaguedashteamstats?Conference=&DateFrom=&DateTo=&Division=&GameScope=&GameSegment=&LastNGames=0&LeagueID=00&Location=&MeasureType=Opponent&Month=0&OpponentTeamID=0&Outcome=&PORound=0&PaceAdjust=N&PerMode=PerGame&Period=0&PlayerExperience=&PlayerPosition=&PlusMinus=N&Rank=N&Season=%s&SeasonSegment=&SeasonType=Regular+Season&ShotClockRange=&StarterBench=&TeamID=0&VsConference=&VsDivision='\n",
    "adv_url = 'http://stats.nba.com/stats/leaguedashteamstats?Conference=&DateFrom=&DateTo=&Division=&GameScope=&GameSegment=&LastNGames=0&LeagueID=00&Location=&MeasureType=Advanced&Month=0&OpponentTeamID=0&Outcome=&PORound=0&PaceAdjust=N&PerMode=PerGame&Period=0&PlayerExperience=&PlayerPosition=&PlusMinus=N&Rank=N&Season=%s&SeasonSegment=&SeasonType=Regular+Season&ShotClockRange=&StarterBench=&TeamID=0&VsConference=&VsDivision='\n",
    "\n",
    "team_stats = get_data_from_url(team_url,0,'2015-16')\n",
    "opp_stats = get_data_from_url(opp_url, 0, '2015-16')\n",
    "adv_stats = get_data_from_url(adv_url, 0, '2015-16')\n",
    "seasons = [\"1997-98\",\"1998-99\",\"1999-00\",\"2000-01\",\"2001-02\",\"2002-03\",\"2003-04\"\n",
    "          ,\"2004-05\",\"2005-06\",\"2006-07\",\"2007-08\",\"2008-09\",\"2009-10\",\"2010-11\",\"2011-12\"\n",
    "          ,\"2012-13\",\"2013-14\",\"2014-15\"]\n",
    "for s in seasons:\n",
    "    \n",
    "    team_stats = team_stats.append(get_data_from_url(team_url, 0, s))\n",
    "    opp_stats = opp_stats.append(get_data_from_url(opp_url, 0, s))\n",
    "    adv_stats = adv_stats.append(get_data_from_url(opp_url, 0, s))\n",
    "    \n",
    "\n"
   ]
  },
  {
   "cell_type": "code",
   "execution_count": 71,
   "metadata": {
    "collapsed": false
   },
   "outputs": [],
   "source": [
    "all_stats = pd.merge(team_stats, opp_stats, on=['SEASON','TEAM_ID'], how= 'outer')\n",
    "\n",
    "#drop repeated columns ending in_y\n",
    "cols = all_stats.columns\n",
    "repeats = []\n",
    "for c in cols:\n",
    "    if c[-2:] == '_y':\n",
    "        c=c.encode('ascii')\n",
    "        repeats.append(c)\n",
    "        \n",
    "all_stats = all_stats.drop(repeats, axis=1)\n",
    "\n",
    "#drop repeated columns ending in _x\n",
    "cols = all_stats.columns\n",
    "repeats = {}\n",
    "for c in cols:\n",
    "    if c[-2:] == '_x':\n",
    "        repeats[c] = c[:-2]\n",
    "all_stats = all_stats.rename(columns = repeats)\n"
   ]
  },
  {
   "cell_type": "code",
   "execution_count": 72,
   "metadata": {
    "collapsed": false
   },
   "outputs": [],
   "source": [
    "all_stats['ts%'] = all_stats.PTS/(2*(all_stats.FGA +.44*all_stats.FTA))\n",
    "all_stats['OPP_ts%'] = all_stats.OPP_PTS/(2*(all_stats.OPP_FGA +.44*all_stats.OPP_FTA))\n",
    "\n",
    "all_stats['eFG%'] = (all_stats.FGM + .5*all_stats.FG3M)/all_stats.FGA \n",
    "all_stats['OPP_eFG%'] = (all_stats.OPP_FGM + .5*all_stats.OPP_FG3M)/all_stats.OPP_FGA \n",
    "\n",
    "all_stats['DREB%'] = all_stats.DREB/(all_stats.DREB + all_stats.OPP_OREB)\n",
    "all_stats['OPP_DREB%'] = all_stats.OPP_DREB/(all_stats.OPP_DREB + all_stats.OREB)\n",
    "\n",
    "all_stats['OREB%'] = all_stats.OREB/(all_stats.OREB + all_stats.OPP_DREB)\n",
    "all_stats['OPP_OREB%'] = all_stats.OPP_OREB/(all_stats.OPP_DREB + all_stats.OREB)\n",
    "\n",
    "all_stats['TOV%'] = all_stats.TOV/(all_stats.FGA +.44*all_stats.FTA + all_stats.TOV)\n",
    "all_stats['OPP_TOV%'] = all_stats.OPP_TOV/(all_stats.OPP_FGA +.44*all_stats.OPP_FTA + all_stats.OPP_TOV)\n",
    "\n"
   ]
  },
  {
   "cell_type": "code",
   "execution_count": 73,
   "metadata": {
    "collapsed": false
   },
   "outputs": [
    {
     "data": {
      "text/html": [
       "<table class=\"simpletable\">\n",
       "<caption>OLS Regression Results</caption>\n",
       "<tr>\n",
       "  <th>Dep. Variable:</th>          <td>W_PCT</td>      <th>  R-squared:         </th> <td>   0.938</td>\n",
       "</tr>\n",
       "<tr>\n",
       "  <th>Model:</th>                   <td>OLS</td>       <th>  Adj. R-squared:    </th> <td>   0.937</td>\n",
       "</tr>\n",
       "<tr>\n",
       "  <th>Method:</th>             <td>Least Squares</td>  <th>  F-statistic:       </th> <td>   1400.</td>\n",
       "</tr>\n",
       "<tr>\n",
       "  <th>Date:</th>             <td>Sat, 05 Dec 2015</td> <th>  Prob (F-statistic):</th>  <td>  0.00</td> \n",
       "</tr>\n",
       "<tr>\n",
       "  <th>Time:</th>                 <td>21:31:16</td>     <th>  Log-Likelihood:    </th> <td>  1029.7</td>\n",
       "</tr>\n",
       "<tr>\n",
       "  <th>No. Observations:</th>      <td>   563</td>      <th>  AIC:               </th> <td>  -2045.</td>\n",
       "</tr>\n",
       "<tr>\n",
       "  <th>Df Residuals:</th>          <td>   556</td>      <th>  BIC:               </th> <td>  -2015.</td>\n",
       "</tr>\n",
       "<tr>\n",
       "  <th>Df Model:</th>              <td>     6</td>      <th>                     </th>     <td> </td>   \n",
       "</tr>\n",
       "<tr>\n",
       "  <th>Covariance Type:</th>      <td>nonrobust</td>    <th>                     </th>     <td> </td>   \n",
       "</tr>\n",
       "</table>\n",
       "<table class=\"simpletable\">\n",
       "<tr>\n",
       "      <td></td>         <th>coef</th>     <th>std err</th>      <th>t</th>      <th>P>|t|</th> <th>[95.0% Conf. Int.]</th> \n",
       "</tr>\n",
       "<tr>\n",
       "  <th>const</th>     <td>    0.6863</td> <td>    0.091</td> <td>    7.574</td> <td> 0.000</td> <td>    0.508     0.864</td>\n",
       "</tr>\n",
       "<tr>\n",
       "  <th>ts%</th>       <td>    5.0728</td> <td>    0.089</td> <td>   56.864</td> <td> 0.000</td> <td>    4.898     5.248</td>\n",
       "</tr>\n",
       "<tr>\n",
       "  <th>OPP_ts%</th>   <td>   -5.1957</td> <td>    0.089</td> <td>  -58.287</td> <td> 0.000</td> <td>   -5.371    -5.021</td>\n",
       "</tr>\n",
       "<tr>\n",
       "  <th>DREB%</th>     <td>    1.3204</td> <td>    0.077</td> <td>   17.139</td> <td> 0.000</td> <td>    1.169     1.472</td>\n",
       "</tr>\n",
       "<tr>\n",
       "  <th>OPP_DREB%</th> <td>   -1.3955</td> <td>    0.066</td> <td>  -21.054</td> <td> 0.000</td> <td>   -1.526    -1.265</td>\n",
       "</tr>\n",
       "<tr>\n",
       "  <th>TOV%</th>      <td>   -4.3491</td> <td>    0.166</td> <td>  -26.243</td> <td> 0.000</td> <td>   -4.675    -4.024</td>\n",
       "</tr>\n",
       "<tr>\n",
       "  <th>OPP_TOV%</th>  <td>    3.8653</td> <td>    0.153</td> <td>   25.255</td> <td> 0.000</td> <td>    3.565     4.166</td>\n",
       "</tr>\n",
       "</table>\n",
       "<table class=\"simpletable\">\n",
       "<tr>\n",
       "  <th>Omnibus:</th>       <td>15.738</td> <th>  Durbin-Watson:     </th> <td>   2.133</td>\n",
       "</tr>\n",
       "<tr>\n",
       "  <th>Prob(Omnibus):</th> <td> 0.000</td> <th>  Jarque-Bera (JB):  </th> <td>  22.279</td>\n",
       "</tr>\n",
       "<tr>\n",
       "  <th>Skew:</th>          <td> 0.252</td> <th>  Prob(JB):          </th> <td>1.45e-05</td>\n",
       "</tr>\n",
       "<tr>\n",
       "  <th>Kurtosis:</th>      <td> 3.834</td> <th>  Cond. No.          </th> <td>    174.</td>\n",
       "</tr>\n",
       "</table>"
      ],
      "text/plain": [
       "<class 'statsmodels.iolib.summary.Summary'>\n",
       "\"\"\"\n",
       "                            OLS Regression Results                            \n",
       "==============================================================================\n",
       "Dep. Variable:                  W_PCT   R-squared:                       0.938\n",
       "Model:                            OLS   Adj. R-squared:                  0.937\n",
       "Method:                 Least Squares   F-statistic:                     1400.\n",
       "Date:                Sat, 05 Dec 2015   Prob (F-statistic):               0.00\n",
       "Time:                        21:31:16   Log-Likelihood:                 1029.7\n",
       "No. Observations:                 563   AIC:                            -2045.\n",
       "Df Residuals:                     556   BIC:                            -2015.\n",
       "Df Model:                           6                                         \n",
       "Covariance Type:            nonrobust                                         \n",
       "==============================================================================\n",
       "                 coef    std err          t      P>|t|      [95.0% Conf. Int.]\n",
       "------------------------------------------------------------------------------\n",
       "const          0.6863      0.091      7.574      0.000         0.508     0.864\n",
       "ts%            5.0728      0.089     56.864      0.000         4.898     5.248\n",
       "OPP_ts%       -5.1957      0.089    -58.287      0.000        -5.371    -5.021\n",
       "DREB%          1.3204      0.077     17.139      0.000         1.169     1.472\n",
       "OPP_DREB%     -1.3955      0.066    -21.054      0.000        -1.526    -1.265\n",
       "TOV%          -4.3491      0.166    -26.243      0.000        -4.675    -4.024\n",
       "OPP_TOV%       3.8653      0.153     25.255      0.000         3.565     4.166\n",
       "==============================================================================\n",
       "Omnibus:                       15.738   Durbin-Watson:                   2.133\n",
       "Prob(Omnibus):                  0.000   Jarque-Bera (JB):               22.279\n",
       "Skew:                           0.252   Prob(JB):                     1.45e-05\n",
       "Kurtosis:                       3.834   Cond. No.                         174.\n",
       "==============================================================================\n",
       "\n",
       "Warnings:\n",
       "[1] Standard Errors assume that the covariance matrix of the errors is correctly specified.\n",
       "\"\"\""
      ]
     },
     "execution_count": 73,
     "metadata": {},
     "output_type": "execute_result"
    }
   ],
   "source": [
    "\n",
    "\n",
    "Y= all_stats.W_PCT\n",
    "X = all_stats[['ts%', 'OPP_ts%', 'DREB%', 'OPP_DREB%','TOV%','OPP_TOV%']]\n",
    "X = sm.add_constant(X)\n",
    "\n",
    "model = sm.OLS(Y,X)\n",
    "results = model.fit()\n",
    "results.summary()"
   ]
  },
  {
   "cell_type": "markdown",
   "metadata": {},
   "source": [
    "## Per Game Analysis..."
   ]
  },
  {
   "cell_type": "code",
   "execution_count": 4,
   "metadata": {
    "collapsed": false
   },
   "outputs": [
    {
     "name": "stdout",
     "output_type": "stream",
     "text": [
      "Index([u'SEASON_ID', u'TEAM_ID', u'TEAM_ABBREVIATION', u'TEAM_NAME',\n",
      "       u'GAME_ID', u'GAME_DATE', u'MATCHUP', u'WL', u'MIN', u'FGM', u'FGA',\n",
      "       u'FG_PCT', u'FG3M', u'FG3A', u'FG3_PCT', u'FTM', u'FTA', u'FT_PCT',\n",
      "       u'OREB', u'DREB', u'REB', u'AST', u'STL', u'BLK', u'TOV', u'PF', u'PTS',\n",
      "       u'PLUS_MINUS', u'VIDEO_AVAILABLE'],\n",
      "      dtype='object')\n"
     ]
    }
   ],
   "source": [
    "data = get_data_from_url('http://stats.nba.com/stats/leaguegamelog?Counter=1000&Direction=DESC&LeagueID=00&PlayerOrTeam=T&Season=2015-16&SeasonType=Regular+Season&Sorter=PTS', 0)\n",
    "print data.columns\n"
   ]
  },
  {
   "cell_type": "markdown",
   "metadata": {},
   "source": []
  },
  {
   "cell_type": "code",
   "execution_count": 5,
   "metadata": {
    "collapsed": false
   },
   "outputs": [
    {
     "name": "stdout",
     "output_type": "stream",
     "text": [
      "Index([u'SEASON_ID_x', u'TEAM_ID_x', u'TEAM_ABBREVIATION_x', u'TEAM_NAME_x',\n",
      "       u'GAME_ID', u'GAME_DATE_x', u'MATCHUP_x', u'WL_x', u'MIN_x', u'FGM_x',\n",
      "       u'FGA_x', u'FG_PCT_x', u'FG3M_x', u'FG3A_x', u'FG3_PCT_x', u'FTM_x',\n",
      "       u'FTA_x', u'FT_PCT_x', u'OREB_x', u'DREB_x', u'REB_x', u'AST_x',\n",
      "       u'STL_x', u'BLK_x', u'TOV_x', u'PF_x', u'PTS_x', u'PLUS_MINUS_x',\n",
      "       u'VIDEO_AVAILABLE_x', u'SEASON_ID_y', u'TEAM_ID_y',\n",
      "       u'TEAM_ABBREVIATION_y', u'TEAM_NAME_y', u'GAME_DATE_y', u'MATCHUP_y',\n",
      "       u'WL_y', u'MIN_y', u'FGM_y', u'FGA_y', u'FG_PCT_y', u'FG3M_y',\n",
      "       u'FG3A_y', u'FG3_PCT_y', u'FTM_y', u'FTA_y', u'FT_PCT_y', u'OREB_y',\n",
      "       u'DREB_y', u'REB_y', u'AST_y', u'STL_y', u'BLK_y', u'TOV_y', u'PF_y',\n",
      "       u'PTS_y', u'PLUS_MINUS_y', u'VIDEO_AVAILABLE_y'],\n",
      "      dtype='object')\n"
     ]
    },
    {
     "name": "stderr",
     "output_type": "stream",
     "text": [
      "/home/scott/anaconda2/lib/python2.7/site-packages/ipykernel/__main__.py:1: FutureWarning: sort(columns=....) is deprecated, use sort_values(by=.....)\n",
      "  if __name__ == '__main__':\n",
      "/home/scott/anaconda2/lib/python2.7/site-packages/ipykernel/__main__.py:6: FutureWarning: sort(columns=....) is deprecated, use sort_values(by=.....)\n"
     ]
    },
    {
     "data": {
      "text/html": [
       "<div>\n",
       "<table border=\"1\" class=\"dataframe\">\n",
       "  <thead>\n",
       "    <tr style=\"text-align: right;\">\n",
       "      <th></th>\n",
       "      <th>SEASON_ID_x</th>\n",
       "      <th>TEAM_ID_x</th>\n",
       "      <th>TEAM_ABBREVIATION_x</th>\n",
       "      <th>TEAM_NAME_x</th>\n",
       "      <th>GAME_ID</th>\n",
       "      <th>GAME_DATE_x</th>\n",
       "      <th>MATCHUP_x</th>\n",
       "      <th>WL_x</th>\n",
       "      <th>MIN_x</th>\n",
       "      <th>FGM_x</th>\n",
       "      <th>...</th>\n",
       "      <th>DREB%_x</th>\n",
       "      <th>DREB%_y</th>\n",
       "      <th>OREB%_x</th>\n",
       "      <th>OREB%_y</th>\n",
       "      <th>TOV%_x</th>\n",
       "      <th>TOV%_y</th>\n",
       "      <th>POSS_x</th>\n",
       "      <th>POSS_y</th>\n",
       "      <th>ORTG_x</th>\n",
       "      <th>ORTG_y</th>\n",
       "    </tr>\n",
       "  </thead>\n",
       "  <tbody>\n",
       "    <tr>\n",
       "      <th>204</th>\n",
       "      <td>22015</td>\n",
       "      <td>1610612737</td>\n",
       "      <td>ATL</td>\n",
       "      <td>Atlanta Hawks</td>\n",
       "      <td>0021500286</td>\n",
       "      <td>2015-12-04</td>\n",
       "      <td>ATL vs. LAL</td>\n",
       "      <td>W</td>\n",
       "      <td>240</td>\n",
       "      <td>37</td>\n",
       "      <td>...</td>\n",
       "      <td>0.693878</td>\n",
       "      <td>0.750000</td>\n",
       "      <td>0.183673</td>\n",
       "      <td>0.416667</td>\n",
       "      <td>0.170341</td>\n",
       "      <td>0.148533</td>\n",
       "      <td>90.80</td>\n",
       "      <td>92.72</td>\n",
       "      <td>110.132159</td>\n",
       "      <td>93.830889</td>\n",
       "    </tr>\n",
       "    <tr>\n",
       "      <th>174</th>\n",
       "      <td>22015</td>\n",
       "      <td>1610612765</td>\n",
       "      <td>DET</td>\n",
       "      <td>Detroit Pistons</td>\n",
       "      <td>0021500285</td>\n",
       "      <td>2015-12-04</td>\n",
       "      <td>DET vs. MIL</td>\n",
       "      <td>W</td>\n",
       "      <td>240</td>\n",
       "      <td>34</td>\n",
       "      <td>...</td>\n",
       "      <td>0.808511</td>\n",
       "      <td>0.840000</td>\n",
       "      <td>0.170213</td>\n",
       "      <td>0.180000</td>\n",
       "      <td>0.091609</td>\n",
       "      <td>0.138683</td>\n",
       "      <td>101.16</td>\n",
       "      <td>99.16</td>\n",
       "      <td>100.830368</td>\n",
       "      <td>95.804760</td>\n",
       "    </tr>\n",
       "    <tr>\n",
       "      <th>99</th>\n",
       "      <td>22015</td>\n",
       "      <td>1610612764</td>\n",
       "      <td>WAS</td>\n",
       "      <td>Washington Wizards</td>\n",
       "      <td>0021500284</td>\n",
       "      <td>2015-12-04</td>\n",
       "      <td>WAS vs. PHX</td>\n",
       "      <td>W</td>\n",
       "      <td>240</td>\n",
       "      <td>40</td>\n",
       "      <td>...</td>\n",
       "      <td>0.684211</td>\n",
       "      <td>0.605263</td>\n",
       "      <td>0.394737</td>\n",
       "      <td>0.315789</td>\n",
       "      <td>0.198276</td>\n",
       "      <td>0.187433</td>\n",
       "      <td>101.00</td>\n",
       "      <td>100.04</td>\n",
       "      <td>107.920792</td>\n",
       "      <td>105.957617</td>\n",
       "    </tr>\n",
       "    <tr>\n",
       "      <th>106</th>\n",
       "      <td>22015</td>\n",
       "      <td>1610612752</td>\n",
       "      <td>NYK</td>\n",
       "      <td>New York Knicks</td>\n",
       "      <td>0021500283</td>\n",
       "      <td>2015-12-04</td>\n",
       "      <td>NYK vs. BKN</td>\n",
       "      <td>W</td>\n",
       "      <td>240</td>\n",
       "      <td>39</td>\n",
       "      <td>...</td>\n",
       "      <td>0.734694</td>\n",
       "      <td>0.818182</td>\n",
       "      <td>0.163265</td>\n",
       "      <td>0.295455</td>\n",
       "      <td>0.119004</td>\n",
       "      <td>0.117541</td>\n",
       "      <td>101.24</td>\n",
       "      <td>97.60</td>\n",
       "      <td>106.677203</td>\n",
       "      <td>93.237705</td>\n",
       "    </tr>\n",
       "    <tr>\n",
       "      <th>58</th>\n",
       "      <td>22015</td>\n",
       "      <td>1610612738</td>\n",
       "      <td>BOS</td>\n",
       "      <td>Boston Celtics</td>\n",
       "      <td>0021500282</td>\n",
       "      <td>2015-12-03</td>\n",
       "      <td>BOS @ SAC</td>\n",
       "      <td>W</td>\n",
       "      <td>240</td>\n",
       "      <td>40</td>\n",
       "      <td>...</td>\n",
       "      <td>0.790698</td>\n",
       "      <td>0.860465</td>\n",
       "      <td>0.139535</td>\n",
       "      <td>0.209302</td>\n",
       "      <td>0.144718</td>\n",
       "      <td>0.166608</td>\n",
       "      <td>104.56</td>\n",
       "      <td>105.04</td>\n",
       "      <td>109.028309</td>\n",
       "      <td>92.345773</td>\n",
       "    </tr>\n",
       "  </tbody>\n",
       "</table>\n",
       "<p>5 rows × 71 columns</p>\n",
       "</div>"
      ],
      "text/plain": [
       "    SEASON_ID_x   TEAM_ID_x TEAM_ABBREVIATION_x         TEAM_NAME_x  \\\n",
       "204       22015  1610612737                 ATL       Atlanta Hawks   \n",
       "174       22015  1610612765                 DET     Detroit Pistons   \n",
       "99        22015  1610612764                 WAS  Washington Wizards   \n",
       "106       22015  1610612752                 NYK     New York Knicks   \n",
       "58        22015  1610612738                 BOS      Boston Celtics   \n",
       "\n",
       "        GAME_ID GAME_DATE_x    MATCHUP_x WL_x  MIN_x  FGM_x     ...      \\\n",
       "204  0021500286  2015-12-04  ATL vs. LAL    W    240     37     ...       \n",
       "174  0021500285  2015-12-04  DET vs. MIL    W    240     34     ...       \n",
       "99   0021500284  2015-12-04  WAS vs. PHX    W    240     40     ...       \n",
       "106  0021500283  2015-12-04  NYK vs. BKN    W    240     39     ...       \n",
       "58   0021500282  2015-12-03    BOS @ SAC    W    240     40     ...       \n",
       "\n",
       "      DREB%_x   DREB%_y   OREB%_x   OREB%_y    TOV%_x    TOV%_y  POSS_x  \\\n",
       "204  0.693878  0.750000  0.183673  0.416667  0.170341  0.148533   90.80   \n",
       "174  0.808511  0.840000  0.170213  0.180000  0.091609  0.138683  101.16   \n",
       "99   0.684211  0.605263  0.394737  0.315789  0.198276  0.187433  101.00   \n",
       "106  0.734694  0.818182  0.163265  0.295455  0.119004  0.117541  101.24   \n",
       "58   0.790698  0.860465  0.139535  0.209302  0.144718  0.166608  104.56   \n",
       "\n",
       "     POSS_y      ORTG_x      ORTG_y  \n",
       "204   92.72  110.132159   93.830889  \n",
       "174   99.16  100.830368   95.804760  \n",
       "99   100.04  107.920792  105.957617  \n",
       "106   97.60  106.677203   93.237705  \n",
       "58   105.04  109.028309   92.345773  \n",
       "\n",
       "[5 rows x 71 columns]"
      ]
     },
     "execution_count": 5,
     "metadata": {},
     "output_type": "execute_result"
    }
   ],
   "source": [
    "data.sort(['GAME_ID'], ascending=[False])\n",
    "wins = data[data['WL']=='W']\n",
    "losses = data[data['WL']=='L']\n",
    "\n",
    "games = pd.merge(wins, losses, on='GAME_ID', how='outer')\n",
    "games = games.sort(['GAME_ID'], ascending=[False])\n",
    "\n",
    "print games.columns\n",
    "\n",
    "games['ts%_x'] = games.PTS_x/(2*(games.FGA_x +.44*games.FTA_x))\n",
    "games['ts%_y'] = games.PTS_y/(2*(games.FGA_y +.44*games.FTA_y))\n",
    "\n",
    "games['eFG%_x'] = (games.FGM_x + .5*games.FG3M_x)/games.FGA_x \n",
    "games['eFG%_y'] = (games.FGM_y + .5*games.FG3M_y)/games.FGA_y \n",
    "\n",
    "games['DREB%_x'] = games.DREB_x/(games.DREB_x + games.OREB_y)\n",
    "games['DREB%_y'] = games.DREB_y/(games.DREB_y + games.OREB_x)\n",
    "\n",
    "games['OREB%_x'] = games.OREB_x/(games.DREB_x + games.OREB_y)\n",
    "games['OREB%_y'] = games.OREB_y/(games.DREB_y + games.OREB_x)\n",
    "\n",
    "games['TOV%_x'] = games.TOV_x/(games.FGA_x +.44*games.FTA_x + games.TOV_x)\n",
    "games['TOV%_y'] = games.TOV_y/(games.FGA_y +.44*games.FTA_y + games.TOV_y)\n",
    "\n",
    "games['POSS_x'] = games.FGA_x + 0.44 * games.FTA_x + games.TOV_x - games.OREB_x\n",
    "games['POSS_y'] = games.FGA_y + 0.44 * games.FTA_y+ games.TOV_y - games.OREB_y\n",
    "\n",
    "games['ORTG_x'] = 100*games.PTS_x/games.POSS_x\n",
    "games['ORTG_y'] = 100*games.PTS_y/games.POSS_y\n",
    "\n",
    "\n",
    "\n",
    "\n",
    "games.head()\n",
    "\n"
   ]
  },
  {
   "cell_type": "code",
   "execution_count": 6,
   "metadata": {
    "collapsed": false
   },
   "outputs": [
    {
     "name": "stdout",
     "output_type": "stream",
     "text": [
      "Ttest_indResult(statistic=12.700214727719038, pvalue=1.01687908147256e-32)\n",
      "Ttest_indResult(statistic=11.561092596189185, pvalue=6.41848095923874e-28)\n",
      "Ttest_indResult(statistic=3.1653872365401048, pvalue=0.0016314332776339549)\n",
      "Ttest_indResult(statistic=-3.2972262852031764, pvalue=0.0010372330552328108)\n"
     ]
    },
    {
     "data": {
      "image/png": "[encoded data removed]",
      "text/plain": [
       "<matplotlib.figure.Figure at 0x7f1f5c9c6210>"
      ]
     },
     "metadata": {},
     "output_type": "display_data"
    },
    {
     "data": {
      "image/png": "[encoded data removed]",
      "text/plain": [
       "<matplotlib.figure.Figure at 0x7f1f5c813ad0>"
      ]
     },
     "metadata": {},
     "output_type": "display_data"
    },
    {
     "data": {
      "image/png": "[encoded data removed]",
      "text/plain": [
       "<matplotlib.figure.Figure at 0x7f1f5c88ed50>"
      ]
     },
     "metadata": {},
     "output_type": "display_data"
    },
    {
     "data": {
      "text/plain": [
       "<matplotlib.figure.Figure at 0x7f1f5c6d7c50>"
      ]
     },
     "metadata": {},
     "output_type": "display_data"
    },
    {
     "data": {
      "image/png": "[encoded data removed]",
      "text/plain": [
       "<matplotlib.figure.Figure at 0x7f1f5d025290>"
      ]
     },
     "metadata": {},
     "output_type": "display_data"
    }
   ],
   "source": [
    "\n",
    "\n",
    "plt.figure();\n",
    "\n",
    "games['ts%_x'].plot(kind='hist', alpha=0.5)\n",
    "games['ts%_y'].plot(kind='hist', alpha=0.5)\n",
    "\n",
    "plt.figure();\n",
    "games['eFG%_x'].plot(kind='hist', alpha=0.5)\n",
    "games['eFG%_y'].plot(kind='hist', alpha=0.5)\n",
    "\n",
    "plt.figure();\n",
    "games['DREB%_x'].plot(kind='hist', alpha=0.5)\n",
    "games['DREB%_y'].plot(kind='hist', alpha=0.5)\n",
    "\n",
    "plt.figure();\n",
    "adv = games[['ts%_x','ts%_y','eFG%_x','eFG%_y','DREB%_x','DREB%_y','TOV%_x','TOV%_y']]\n",
    "adv.plot(kind='box')\n",
    "\n",
    "\n",
    "print ttest_ind(games['ts%_x'], games['ts%_y'])\n",
    "print ttest_ind(games['eFG%_x'], games['eFG%_y'])\n",
    "print ttest_ind(games['DREB%_x'], games['DREB%_y'])\n",
    "print ttest_ind(games['TOV%_x'], games['TOV%_y'])\n"
   ]
  },
  {
   "cell_type": "code",
   "execution_count": null,
   "metadata": {
    "collapsed": false
   },
   "outputs": [],
   "source": []
  },
  {
   "cell_type": "code",
   "execution_count": null,
   "metadata": {
    "collapsed": true
   },
   "outputs": [],
   "source": []
  }
 ],
 "metadata": {
  "kernelspec": {
   "display_name": "Python 2",
   "language": "python",
   "name": "python2"
  },
  "language_info": {
   "codemirror_mode": {
    "name": "ipython",
    "version": 2
   },
   "file_extension": ".py",
   "mimetype": "text/x-python",
   "name": "python",
   "nbconvert_exporter": "python",
   "pygments_lexer": "ipython2",
   "version": "2.7.10"
  }
 },
 "nbformat": 4,
 "nbformat_minor": 0
}
