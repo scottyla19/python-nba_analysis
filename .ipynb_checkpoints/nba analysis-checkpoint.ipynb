{
 "cells": [
  {
   "cell_type": "code",
   "execution_count": 118,
   "metadata": {
    "collapsed": false
   },
   "outputs": [],
   "source": [
    "%matplotlib inline\n",
    "\n",
    "import requests\n",
    "import pandas as pd\n",
    "import statsmodels.api as sm\n",
    "import matplotlib.pyplot as plt\n",
    "from scipy.stats import ttest_ind\n",
    "import numpy as nd\n"
   ]
  },
  {
   "cell_type": "code",
   "execution_count": 2,
   "metadata": {
    "collapsed": false
   },
   "outputs": [],
   "source": [
    "def get_data_from_url(base_url, index, year):\n",
    "    base_url = base_url% year\n",
    "    response = requests.get(base_url)\n",
    "    data = response.json()\n",
    "    headers = data['resultSets'][index]['headers']\n",
    "    rows = data['resultSets'][index]['rowSet']\n",
    "    headers.append('SEASON')\n",
    "    for r in rows:\n",
    "        r.append(year)\n",
    "    shot_df = pd.DataFrame(rows, columns=headers)\n",
    "    return shot_df\n"
   ]
  },
  {
   "cell_type": "code",
   "execution_count": 3,
   "metadata": {
    "collapsed": false
   },
   "outputs": [],
   "source": [
    "\n",
    "team_url = 'http://stats.nba.com/stats/leaguedashteamstats?Conference=&DateFrom=&DateTo=&Division=&GameScope=&GameSegment=&LastNGames=0&LeagueID=00&Location=&MeasureType=Base&Month=0&OpponentTeamID=0&Outcome=&PORound=0&PaceAdjust=N&PerMode=PerGame&Period=0&PlayerExperience=&PlayerPosition=&PlusMinus=N&Rank=N&Season=%s&SeasonSegment=&SeasonType=Regular+Season&ShotClockRange=&StarterBench=&TeamID=0&VsConference=&VsDivision='\n",
    "opp_url = 'http://stats.nba.com/stats/leaguedashteamstats?Conference=&DateFrom=&DateTo=&Division=&GameScope=&GameSegment=&LastNGames=0&LeagueID=00&Location=&MeasureType=Opponent&Month=0&OpponentTeamID=0&Outcome=&PORound=0&PaceAdjust=N&PerMode=PerGame&Period=0&PlayerExperience=&PlayerPosition=&PlusMinus=N&Rank=N&Season=%s&SeasonSegment=&SeasonType=Regular+Season&ShotClockRange=&StarterBench=&TeamID=0&VsConference=&VsDivision='\n",
    "adv_url = 'http://stats.nba.com/stats/leaguedashteamstats?Conference=&DateFrom=&DateTo=&Division=&GameScope=&GameSegment=&LastNGames=0&LeagueID=00&Location=&MeasureType=Advanced&Month=0&OpponentTeamID=0&Outcome=&PORound=0&PaceAdjust=N&PerMode=PerGame&Period=0&PlayerExperience=&PlayerPosition=&PlusMinus=N&Rank=N&Season=%s&SeasonSegment=&SeasonType=Regular+Season&ShotClockRange=&StarterBench=&TeamID=0&VsConference=&VsDivision='\n",
    "\n",
    "team_stats = get_data_from_url(team_url,0,'2015-16')\n",
    "opp_stats = get_data_from_url(opp_url, 0, '2015-16')\n",
    "adv_stats = get_data_from_url(adv_url, 0, '2015-16')\n",
    "seasons = [\"1997-98\",\"1998-99\",\"1999-00\",\"2000-01\",\"2001-02\",\"2002-03\",\"2003-04\"\n",
    "          ,\"2004-05\",\"2005-06\",\"2006-07\",\"2007-08\",\"2008-09\",\"2009-10\",\"2010-11\",\"2011-12\"\n",
    "          ,\"2012-13\",\"2013-14\",\"2014-15\"]\n",
    "for s in seasons:\n",
    "    \n",
    "    team_stats = team_stats.append(get_data_from_url(team_url, 0, s))\n",
    "    opp_stats = opp_stats.append(get_data_from_url(opp_url, 0, s))\n",
    "    adv_stats = adv_stats.append(get_data_from_url(opp_url, 0, s))\n",
    "    \n",
    "\n"
   ]
  },
  {
   "cell_type": "code",
   "execution_count": 4,
   "metadata": {
    "collapsed": false
   },
   "outputs": [],
   "source": [
    "all_stats = pd.merge(team_stats, opp_stats, on=['SEASON','TEAM_ID'], how= 'outer')\n",
    "\n",
    "#drop repeated columns ending in_y\n",
    "cols = all_stats.columns\n",
    "repeats = []\n",
    "for c in cols:\n",
    "    if c[-2:] == '_y':\n",
    "        c=c.encode('ascii')\n",
    "        repeats.append(c)\n",
    "        \n",
    "all_stats = all_stats.drop(repeats, axis=1)\n",
    "\n",
    "#drop repeated columns ending in _x\n",
    "cols = all_stats.columns\n",
    "repeats = {}\n",
    "for c in cols:\n",
    "    if c[-2:] == '_x':\n",
    "        repeats[c] = c[:-2]\n",
    "all_stats = all_stats.rename(columns = repeats)\n"
   ]
  },
  {
   "cell_type": "code",
   "execution_count": 5,
   "metadata": {
    "collapsed": false
   },
   "outputs": [],
   "source": [
    "all_stats['ts%'] = all_stats.PTS/(2*(all_stats.FGA +.44*all_stats.FTA))\n",
    "all_stats['OPP_ts%'] = all_stats.OPP_PTS/(2*(all_stats.OPP_FGA +.44*all_stats.OPP_FTA))\n",
    "\n",
    "all_stats['eFG%'] = (all_stats.FGM + .5*all_stats.FG3M)/all_stats.FGA \n",
    "all_stats['OPP_eFG%'] = (all_stats.OPP_FGM + .5*all_stats.OPP_FG3M)/all_stats.OPP_FGA \n",
    "\n",
    "all_stats['DREB%'] = all_stats.DREB/(all_stats.DREB + all_stats.OPP_OREB)\n",
    "all_stats['OPP_DREB%'] = all_stats.OPP_DREB/(all_stats.OPP_DREB + all_stats.OREB)\n",
    "\n",
    "all_stats['OREB%'] = all_stats.OREB/(all_stats.OREB + all_stats.OPP_DREB)\n",
    "all_stats['OPP_OREB%'] = all_stats.OPP_OREB/(all_stats.OPP_DREB + all_stats.OREB)\n",
    "\n",
    "all_stats['TOV%'] = all_stats.TOV/(all_stats.FGA +.44*all_stats.FTA + all_stats.TOV)\n",
    "all_stats['OPP_TOV%'] = all_stats.OPP_TOV/(all_stats.OPP_FGA +.44*all_stats.OPP_FTA + all_stats.OPP_TOV)\n",
    "\n"
   ]
  },
  {
   "cell_type": "code",
   "execution_count": 34,
   "metadata": {
    "collapsed": false
   },
   "outputs": [
    {
     "name": "stdout",
     "output_type": "stream",
     "text": [
      "                            OLS Regression Results                            \n",
      "==============================================================================\n",
      "Dep. Variable:                  W_PCT   R-squared:                       0.939\n",
      "Model:                            OLS   Adj. R-squared:                  0.938\n",
      "Method:                 Least Squares   F-statistic:                     1427.\n",
      "Date:                Sat, 12 Dec 2015   Prob (F-statistic):               0.00\n",
      "Time:                        22:23:23   Log-Likelihood:                 1036.5\n",
      "No. Observations:                 563   AIC:                            -2059.\n",
      "Df Residuals:                     556   BIC:                            -2029.\n",
      "Df Model:                           6                                         \n",
      "Covariance Type:            nonrobust                                         \n",
      "==============================================================================\n",
      "                 coef    std err          t      P>|t|      [95.0% Conf. Int.]\n",
      "------------------------------------------------------------------------------\n",
      "const          0.6410      0.090      7.138      0.000         0.465     0.817\n",
      "ts%            5.0796      0.088     57.427      0.000         4.906     5.253\n",
      "OPP_ts%       -5.1335      0.088    -58.127      0.000        -5.307    -4.960\n",
      "DREB%          1.3298      0.076     17.397      0.000         1.180     1.480\n",
      "OPP_DREB%     -1.4061      0.066    -21.362      0.000        -1.535    -1.277\n",
      "TOV%          -4.3201      0.165    -26.254      0.000        -4.643    -3.997\n",
      "OPP_TOV%       3.9055      0.152     25.614      0.000         3.606     4.205\n",
      "==============================================================================\n",
      "Omnibus:                       18.599   Durbin-Watson:                   2.173\n",
      "Prob(Omnibus):                  0.000   Jarque-Bera (JB):               29.335\n",
      "Skew:                           0.256   Prob(JB):                     4.26e-07\n",
      "Kurtosis:                       3.994   Cond. No.                         174.\n",
      "==============================================================================\n",
      "\n",
      "Warnings:\n",
      "[1] Standard Errors assume that the covariance matrix of the errors is correctly specified.\n",
      "0.640960828779\n"
     ]
    }
   ],
   "source": [
    "\n",
    "\n",
    "Y= all_stats.W_PCT\n",
    "X = all_stats[['ts%', 'OPP_ts%', 'DREB%', 'OPP_DREB%','TOV%','OPP_TOV%']]\n",
    "X = sm.add_constant(X)\n",
    "\n",
    "model = sm.OLS(Y,X)\n",
    "results = model.fit()\n",
    "coeffs = results.params\n"
   ]
  },
  {
   "cell_type": "code",
   "execution_count": 46,
   "metadata": {
    "collapsed": false
   },
   "outputs": [],
   "source": [
    "def get_team_estimate(team, season):\n",
    "    cols = coeffs.keys()\n",
    "    estimate = coeffs[0]\n",
    "    row= all_stats[(all_stats['SEASON']==season) & (all_stats['TEAM_NAME']==team)]\n",
    "    for i in range(1,5):\n",
    "        estimate += row[cols[i]]*coeffs[i]\n",
    "    return estimate\n",
    "\n",
    "def compare_team(team, season):\n",
    "    rows = all_stats[(all_stats['SEASON']==season) & (all_stats['TEAM_NAME']==team)]\n",
    "    est_wPct = get_team_estimate(team, season)\n",
    "    wPct = rows.W_PCT\n",
    "    diff = wPct - est_wPct\n",
    "    return (team, wPct, est_wPct, diff)\n",
    "\n",
    "teams = all_stats.TEAM_NAME.unique()\n",
    "#for t in teams:\n",
    " #   print compare_team(team = t, season = '2015-16')\n",
    "\n"
   ]
  },
  {
   "cell_type": "code",
   "execution_count": 8,
   "metadata": {
    "collapsed": false
   },
   "outputs": [
    {
     "data": {
      "text/plain": [
       "Index([    u'TEAM_ID',   u'TEAM_NAME',          u'GP',           u'W',\n",
       "                 u'L',       u'W_PCT',         u'MIN',         u'FGM',\n",
       "               u'FGA',      u'FG_PCT',        u'FG3M',        u'FG3A',\n",
       "           u'FG3_PCT',         u'FTM',         u'FTA',      u'FT_PCT',\n",
       "              u'OREB',        u'DREB',         u'REB',         u'AST',\n",
       "               u'TOV',         u'STL',         u'BLK',        u'BLKA',\n",
       "                u'PF',         u'PFD',         u'PTS',  u'PLUS_MINUS',\n",
       "              u'CFID',    u'CFPARAMS',      u'SEASON',     u'OPP_FGM',\n",
       "           u'OPP_FGA',  u'OPP_FG_PCT',    u'OPP_FG3M',    u'OPP_FG3A',\n",
       "       u'OPP_FG3_PCT',     u'OPP_FTM',     u'OPP_FTA',  u'OPP_FT_PCT',\n",
       "          u'OPP_OREB',    u'OPP_DREB',     u'OPP_REB',     u'OPP_AST',\n",
       "           u'OPP_TOV',     u'OPP_STL',     u'OPP_BLK',    u'OPP_BLKA',\n",
       "            u'OPP_PF',     u'OPP_PFD',     u'OPP_PTS',         u'ts%',\n",
       "           u'OPP_ts%',        u'eFG%',    u'OPP_eFG%',       u'DREB%',\n",
       "         u'OPP_DREB%',       u'OREB%',   u'OPP_OREB%',        u'TOV%',\n",
       "          u'OPP_TOV%'],\n",
       "      dtype='object')"
      ]
     },
     "execution_count": 8,
     "metadata": {},
     "output_type": "execute_result"
    }
   ],
   "source": [
    "all_stats.columns"
   ]
  },
  {
   "cell_type": "markdown",
   "metadata": {},
   "source": [
    "## Per Game Analysis..."
   ]
  },
  {
   "cell_type": "code",
   "execution_count": 47,
   "metadata": {
    "collapsed": false
   },
   "outputs": [
    {
     "name": "stdout",
     "output_type": "stream",
     "text": [
      "Index([        u'SEASON_ID',           u'TEAM_ID', u'TEAM_ABBREVIATION',\n",
      "               u'TEAM_NAME',           u'GAME_ID',         u'GAME_DATE',\n",
      "                 u'MATCHUP',                u'WL',               u'MIN',\n",
      "                     u'FGM',               u'FGA',            u'FG_PCT',\n",
      "                    u'FG3M',              u'FG3A',           u'FG3_PCT',\n",
      "                     u'FTM',               u'FTA',            u'FT_PCT',\n",
      "                    u'OREB',              u'DREB',               u'REB',\n",
      "                     u'AST',               u'STL',               u'BLK',\n",
      "                     u'TOV',                u'PF',               u'PTS',\n",
      "              u'PLUS_MINUS',   u'VIDEO_AVAILABLE',            u'SEASON'],\n",
      "      dtype='object')\n"
     ]
    }
   ],
   "source": [
    "data = get_data_from_url('http://stats.nba.com/stats/leaguegamelog?Counter=1000&Direction=DESC&LeagueID=00&PlayerOrTeam=T&Season=%s&SeasonType=Regular+Season&Sorter=PTS', 0, '2015-16')\n",
    "print data.columns\n"
   ]
  },
  {
   "cell_type": "markdown",
   "metadata": {},
   "source": []
  },
  {
   "cell_type": "code",
   "execution_count": 56,
   "metadata": {
    "collapsed": false
   },
   "outputs": [
    {
     "name": "stderr",
     "output_type": "stream",
     "text": [
      "/home/scott/anaconda2/lib/python2.7/site-packages/ipykernel/__main__.py:1: FutureWarning: sort(columns=....) is deprecated, use sort_values(by=.....)\n",
      "  if __name__ == '__main__':\n",
      "/home/scott/anaconda2/lib/python2.7/site-packages/ipykernel/__main__.py:6: FutureWarning: sort(columns=....) is deprecated, use sort_values(by=.....)\n"
     ]
    }
   ],
   "source": [
    "data.sort(['GAME_ID'], ascending=[False])\n",
    "wins = data[data['WL']=='W']\n",
    "losses = data[data['WL']=='L']\n",
    "\n",
    "games = pd.merge(wins, losses, on='GAME_ID', how='outer')\n",
    "games = games.sort(['GAME_ID'], ascending=[False])\n",
    "\n",
    "games['ts%_x'] = games.PTS_x/(2*(games.FGA_x +.44*games.FTA_x))\n",
    "games['ts%_y'] = games.PTS_y/(2*(games.FGA_y +.44*games.FTA_y))\n",
    "\n",
    "games['eFG%_x'] = (games.FGM_x + .5*games.FG3M_x)/games.FGA_x \n",
    "games['eFG%_y'] = (games.FGM_y + .5*games.FG3M_y)/games.FGA_y \n",
    "\n",
    "games['DREB%_x'] = games.DREB_x/(games.DREB_x + games.OREB_y)\n",
    "games['DREB%_y'] = games.DREB_y/(games.DREB_y + games.OREB_x)\n",
    "\n",
    "games['OREB%_x'] = games.OREB_x/(games.DREB_x + games.OREB_y)\n",
    "games['OREB%_y'] = games.OREB_y/(games.DREB_y + games.OREB_x)\n",
    "\n",
    "games['TOV%_x'] = games.TOV_x/(games.FGA_x +.44*games.FTA_x + games.TOV_x)\n",
    "games['TOV%_y'] = games.TOV_y/(games.FGA_y +.44*games.FTA_y + games.TOV_y)\n",
    "\n",
    "games['POSS_x'] = games.FGA_x + 0.44 * games.FTA_x + games.TOV_x - games.OREB_x\n",
    "games['POSS_y'] = games.FGA_y + 0.44 * games.FTA_y+ games.TOV_y - games.OREB_y\n",
    "\n",
    "games['ORTG_x'] = 100*games.PTS_x/games.POSS_x\n",
    "games['ORTG_y'] = 100*games.PTS_y/games.POSS_y\n",
    "\n"
   ]
  },
  {
   "cell_type": "code",
   "execution_count": 49,
   "metadata": {
    "collapsed": false
   },
   "outputs": [
    {
     "name": "stdout",
     "output_type": "stream",
     "text": [
      "Ttest_indResult(statistic=14.296337713831605, pvalue=7.0384056702772389e-41)\n",
      "Ttest_indResult(statistic=13.026443162511805, pvalue=6.7454170056500155e-35)\n",
      "Ttest_indResult(statistic=3.4731397884770798, pvalue=0.00054596666344645668)\n",
      "Ttest_indResult(statistic=-2.9302879671486308, pvalue=0.0034964163358539822)\n"
     ]
    },
    {
     "data": {
      "image/png": "[encoded data removed]",
      "text/plain": [
       "<matplotlib.figure.Figure at 0x7f662cb692d0>"
      ]
     },
     "metadata": {},
     "output_type": "display_data"
    },
    {
     "data": {
      "image/png": "[encoded data removed]",
      "text/plain": [
       "<matplotlib.figure.Figure at 0x7f662c9f7250>"
      ]
     },
     "metadata": {},
     "output_type": "display_data"
    },
    {
     "data": {
      "image/png": "[encoded data removed]",
      "text/plain": [
       "<matplotlib.figure.Figure at 0x7f662c98b650>"
      ]
     },
     "metadata": {},
     "output_type": "display_data"
    },
    {
     "data": {
      "text/plain": [
       "<matplotlib.figure.Figure at 0x7f662c8919d0>"
      ]
     },
     "metadata": {},
     "output_type": "display_data"
    },
    {
     "data": {
      "image/png": "[encoded data removed]",
      "text/plain": [
       "<matplotlib.figure.Figure at 0x7f662ca6ae50>"
      ]
     },
     "metadata": {},
     "output_type": "display_data"
    }
   ],
   "source": [
    "\n",
    "\n",
    "plt.figure();\n",
    "\n",
    "games['ts%_x'].plot(kind='hist', alpha=0.5)\n",
    "games['ts%_y'].plot(kind='hist', alpha=0.5)\n",
    "\n",
    "plt.figure();\n",
    "games['eFG%_x'].plot(kind='hist', alpha=0.5)\n",
    "games['eFG%_y'].plot(kind='hist', alpha=0.5)\n",
    "\n",
    "plt.figure();\n",
    "games['DREB%_x'].plot(kind='hist', alpha=0.5)\n",
    "games['DREB%_y'].plot(kind='hist', alpha=0.5)\n",
    "\n",
    "plt.figure();\n",
    "adv = games[['ts%_x','ts%_y','eFG%_x','eFG%_y','DREB%_x','DREB%_y','TOV%_x','TOV%_y']]\n",
    "adv.plot(kind='box')\n",
    "\n",
    "\n",
    "print ttest_ind(games['ts%_x'], games['ts%_y'])\n",
    "print ttest_ind(games['eFG%_x'], games['eFG%_y'])\n",
    "print ttest_ind(games['DREB%_x'], games['DREB%_y'])\n",
    "print ttest_ind(games['TOV%_x'], games['TOV%_y'])\n"
   ]
  },
  {
   "cell_type": "code",
   "execution_count": 120,
   "metadata": {
    "collapsed": false
   },
   "outputs": [
    {
     "name": "stdout",
     "output_type": "stream",
     "text": [
      "          prob     stat  wins&greater  wins&less\n",
      "FGA      0.429      FGA           151        201\n",
      "FG_PCT   0.787   FG_PCT           277         75\n",
      "FG3M     0.582     FG3M           205        147\n",
      "FG3A     0.500     FG3A           176        176\n",
      "FG3_PCT  0.693  FG3_PCT           244        108\n",
      "FTM      0.568      FTM           200        152\n",
      "FTA      0.577      FTA           203        149\n",
      "FT_PCT   0.480   FT_PCT           169        183\n",
      "OREB     0.457     OREB           161        191\n",
      "DREB     0.705     DREB           248        104\n",
      "REB      0.662      REB           233        119\n",
      "AST      0.668      AST           235        117\n",
      "STL      0.483      STL           170        182\n",
      "BLK      0.545      BLK           192        160\n",
      "TOV      0.412      TOV           145        207\n",
      "PF       0.338       PF           119        233\n",
      "ts%      0.858      ts%           302         50\n",
      "eFG%     0.793     eFG%           279         73\n",
      "DREB%    0.591    DREB%           208        144\n",
      "OREB%    0.429    OREB%           151        201\n",
      "TOV%     0.449     TOV%           158        194\n"
     ]
    }
   ],
   "source": [
    "def get_stat_comparisons(stats):\n",
    "    rows = []\n",
    "    for s in stats:\n",
    "        greater = games[(games[s+'_x'] > games[s+'_y']) & (games['WL_x'] == 'W')]\n",
    "        less = games[(games[s+'_x'] <= games[s+'_y']) & (games['WL_x'] == 'W')]\n",
    "        wins_greater = len(greater.index)\n",
    "        wins_less = len(less.index)\n",
    "        prob = round(float(wins_greater)/float(len(games.index)),3)\n",
    "        \n",
    "        row = {'stat':s, 'wins&greater':wins_greater,'wins&less': wins_less, 'prob':prob}\n",
    "        rows.append(row)\n",
    "        \n",
    "    df = pd.DataFrame(rows,index=(stats))\n",
    "    return df\n",
    "cols =  data.columns.values\n",
    "stats = cols[10:26]\n",
    "adv_stats = ['ts%', 'eFG%', 'DREB%', 'OREB%', 'TOV%']\n",
    "stats = nd.append(stats, adv_stats)\n",
    "print get_stat_comparisons(stats)"
   ]
  },
  {
   "cell_type": "code",
   "execution_count": null,
   "metadata": {
    "collapsed": true
   },
   "outputs": [],
   "source": []
  }
 ],
 "metadata": {
  "kernelspec": {
   "display_name": "Python 2",
   "language": "python",
   "name": "python2"
  },
  "language_info": {
   "codemirror_mode": {
    "name": "ipython",
    "version": 2
   },
   "file_extension": ".py",
   "mimetype": "text/x-python",
   "name": "python",
   "nbconvert_exporter": "python",
   "pygments_lexer": "ipython2",
   "version": "2.7.10"
  }
 },
 "nbformat": 4,
 "nbformat_minor": 0
}
